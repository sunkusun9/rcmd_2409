{
 "cells": [
  {
   "cell_type": "markdown",
   "id": "c541652c-e25d-4504-ae8e-a60d411190d0",
   "metadata": {},
   "source": [
    "# 추천 시스템 강의\n",
    "\n",
    "## 강사\n",
    "\n",
    "- 멀티캠퍼스 강선구 프로(sunku0316.kang@multicampus.com)\n",
    "\n",
    "\n",
    "## 강의 목표\n",
    "\n",
    "- **추천 시스템**을 연구하고 이해하기 위한 **기본적인 지식**을 살펴 봅니다.\n",
    "\n",
    "- **머신 러닝**(Machine Learning)기반의 추천 시스템의 기본 지식을 다룹니다. \n",
    "\n",
    "- 사용자와 아이템간의 **상호작용을 패턴**을 모델링에 적합한 **Matrix Factorization(행렬 분해)** 모델을 깊숙히 알아 봅니다. \n",
    "\n",
    "- 모수적 모델(Parameteric Model)을 만들고 학습하기 위한 Framework인 **Tensorflow**을 활용해 봅니다.\n",
    "\n",
    "- **Cold Start Problem**을 극복하기 위한 다양한 속성을 활용과 학습 방법을 알아 봅니다.\n",
    "\n",
    "- 간접 피드백 데이터를 **Negative sampling**기법을 다루어 봅니다.\n"
   ]
  },
  {
   "cell_type": "markdown",
   "id": "c957624a-e5b5-48ac-87e8-f43e30e9e70a",
   "metadata": {},
   "source": [
    "## 진행 방식\n",
    "\n",
    "모든 강의 자료는 Python Notebook(ipynb) 중심으로 구성되었습니다. \n",
    "\n",
    "ipynb에는 Markdown으로 추천 관련 내용과 개념을 설명하기 위한 코드들과 약간의 실습이 주어집니다. \n",
    "\n",
    "노트에서 설명하는 내용을 같이 이해해보는 형식으로 진행됩니다.\n",
    "\n",
    "→ 노트에서 제시된 추천 시스템을 구현 사항 들은 하나의 참고 자료일 뿐입니다.\n"
   ]
  },
  {
   "cell_type": "markdown",
   "id": "76a1f9bc-fa4f-4b48-b3cd-b640431d5012",
   "metadata": {},
   "source": [
    "# 환경 구성\n",
    "\n",
    "**OS: WSL2(Windows Subsystem for Linux 2)**"
   ]
  },
  {
   "cell_type": "code",
   "execution_count": null,
   "id": "a3c814ef-907a-44c6-8f1f-8356f86d0c86",
   "metadata": {},
   "outputs": [],
   "source": [
    "import os\n",
    "import sys\n",
    "print('Python', sys.version)"
   ]
  },
  {
   "cell_type": "markdown",
   "id": "c7206ce4-3712-400d-978a-416e464599eb",
   "metadata": {},
   "source": [
    "## 주요 패키지"
   ]
  },
  {
   "cell_type": "markdown",
   "id": "862a4908-969d-4269-b285-8e6c6b051a4f",
   "metadata": {},
   "source": [
    "### pandas\n",
    "\n",
    "데이터 처리 라이브러리"
   ]
  },
  {
   "cell_type": "code",
   "execution_count": null,
   "id": "7b5437d6-2f07-44b3-a0ee-7333f09e370b",
   "metadata": {},
   "outputs": [],
   "source": [
    "try:\n",
    "    import pandas as pd\n",
    "except:\n",
    "    !pip install --upgrade pandas\n",
    "    import pandas as pd\n",
    "\n",
    "pd.__name__, pd.__version__"
   ]
  },
  {
   "cell_type": "markdown",
   "id": "92f21288-9fe2-4c91-8672-c85b796b966d",
   "metadata": {},
   "source": [
    "### numpy\n",
    "\n",
    "수치 연산 라이브러리"
   ]
  },
  {
   "cell_type": "code",
   "execution_count": null,
   "id": "591deafa-2ebe-4ba9-902d-2e01f74916c4",
   "metadata": {},
   "outputs": [],
   "source": [
    "try:\n",
    "    import numpy as np\n",
    "except:\n",
    "    !pip install --upgrade numpy \n",
    "    import numpy as np\n",
    "\n",
    "np.__name__, np.__version__"
   ]
  },
  {
   "cell_type": "markdown",
   "id": "e215bbc2-840b-4a7a-beca-f800d7a2e17c",
   "metadata": {},
   "source": [
    "### scipy\n",
    "\n",
    "과학용 수치 연산 라이브러리"
   ]
  },
  {
   "cell_type": "code",
   "execution_count": null,
   "id": "d477cd46-2d96-41f6-8b61-32621f6317d8",
   "metadata": {},
   "outputs": [],
   "source": [
    "try:\n",
    "    import scipy\n",
    "except:\n",
    "    !pip install --upgrade scipy\n",
    "    import scipy\n",
    "\n",
    "scipy.__name__, scipy.__version__"
   ]
  },
  {
   "cell_type": "markdown",
   "id": "5150247e-166e-41fe-b2d3-d62ffece5e10",
   "metadata": {},
   "source": [
    "### scikit-learn\n",
    "\n",
    "머신러닝 라이브러리"
   ]
  },
  {
   "cell_type": "code",
   "execution_count": null,
   "id": "ee47c8a5-7065-4395-ac81-08cdc7861758",
   "metadata": {},
   "outputs": [],
   "source": [
    "try:\n",
    "    import sklearn\n",
    "except:\n",
    "    !pip install --upgrade scikit-learn\n",
    "    import sklearn\n",
    "sklearn.__name__, sklearn.__version__"
   ]
  },
  {
   "cell_type": "markdown",
   "id": "14631192-22fc-4df8-b789-2d8cabccc1c8",
   "metadata": {},
   "source": [
    "### matplotlib\n",
    "\n",
    "시각화 라이브러리"
   ]
  },
  {
   "cell_type": "code",
   "execution_count": null,
   "id": "627bfa73-13af-4e32-827e-6327e9daa863",
   "metadata": {},
   "outputs": [],
   "source": [
    "try:\n",
    "    import matplotlib as mpl\n",
    "except:\n",
    "    !pip install --upgrade matplotlib\n",
    "    import matplotlib as mpl\n",
    "mpl.__name__, mpl.__version__"
   ]
  },
  {
   "cell_type": "markdown",
   "id": "838471f8-bec3-43b4-bba9-d87e9d5595a3",
   "metadata": {},
   "source": [
    "### seaborn\n",
    "\n",
    "차트 중심 시각화 라이브러리"
   ]
  },
  {
   "cell_type": "code",
   "execution_count": null,
   "id": "d031e0f1-9c0a-4974-8bd0-9ffb9ce037bd",
   "metadata": {},
   "outputs": [],
   "source": [
    "try:\n",
    "    import seaborn as sns\n",
    "except:\n",
    "    !pip install --upgrade seaborn\n",
    "    import seaborn as sns\n",
    "sns.__name__, sns.__version__"
   ]
  },
  {
   "cell_type": "markdown",
   "id": "a34e3ca3-8278-446b-85df-ff796844d1ce",
   "metadata": {},
   "source": [
    "### LightGBM\n",
    "\n",
    "Gradient Boosting Tree 라이브러리"
   ]
  },
  {
   "cell_type": "code",
   "execution_count": null,
   "id": "02d7b336-f6af-4849-afb3-3c11481b56bc",
   "metadata": {},
   "outputs": [],
   "source": [
    "try:\n",
    "    import lightgbm as lgb\n",
    "except:\n",
    "    !pip install --upgrade lightgbm\n",
    "    import lightgbm as lgb\n",
    "lgb.__name__, lgb.__version__"
   ]
  },
  {
   "cell_type": "markdown",
   "id": "f08da741-eaf7-4605-b30d-6babb72e781a",
   "metadata": {},
   "source": [
    "### KIWI\n",
    "\n",
    "한글 형태소 분석기: [KIWI](https://github.com/bab2min/kiwipiepy)"
   ]
  },
  {
   "cell_type": "code",
   "execution_count": null,
   "id": "dd76e7fd-cead-40cb-b11e-a0925b04c15f",
   "metadata": {},
   "outputs": [],
   "source": [
    "try:\n",
    "    import kiwipiepy\n",
    "except:\n",
    "    !pip install --upgrade kiwipiepy\n",
    "    import kiwipiepy\n",
    "\n",
    "kiwipiepy.__name__, kiwipiepy.__version__"
   ]
  },
  {
   "cell_type": "markdown",
   "id": "d053246e-bb75-46ab-a3d7-84d9fa9142ba",
   "metadata": {},
   "source": [
    "## Tensorflow \n",
    "\n",
    "딥러닝 프레임웤: [Tensorflow](https://www.tensorflow.org/)\n",
    "\n",
    "# GPU 버젼 Tensorflow 설치\n",
    "\n",
    "교육장 환경 설치 기준\n",
    "\n",
    "Windows 버젼에서는 WSL 2(Window Subversion for Linux 2)을 이용을 해야만 최신 버젼의 Tensorflow를\n",
    "\n",
    "GPU 환경에서 구동을 시킬 수 있습니다.\n",
    "\n",
    "Windows 10 Version H2 업데이트가 되어야만 WSL 2를 구동시킬수 있습니다.\n",
    "\n",
    "**WSL** 환경 구축 방법\n",
    "\n",
    "커멘드 라인을 구동시킵니다.\n",
    "```\n",
    "cmd\n",
    "```\n",
    "\n",
    "```\n",
    "wsl --update\n",
    "```\n",
    "\n",
    "```\n",
    "wsl --install -d Ubuntu\n",
    "```\n",
    "\n",
    "**WSL** 실행 방법\n",
    "\n",
    "```\n",
    "cmd\n",
    "wsl\n",
    "```\n",
    "\n",
    "**GPU** 환경 구축 방법\n",
    "\n",
    "최신 GPU 드라이버를 다운로드 받습니다: [다운로드 링크](https://www.nvidia.com/download/index.aspx)\n",
    "\n",
    "\n",
    "\n",
    "```bash\n",
    "nvidia-smi\n",
    "```\n",
    "\n",
    "만일 nvidia-smi가 동작을 하지 않을 경우. nvidia-smi를 최신버젼으로 업데이트 합니다.\n",
    "```bash\n",
    "```\n",
    "\n",
    "**Tensorflow 설치**\n",
    "\n",
    "```bash\n",
    "pip install --upgrade tensorflow[and-cuda]\n",
    "```"
   ]
  },
  {
   "cell_type": "code",
   "execution_count": null,
   "id": "363047ac-dba7-43d1-88ec-84c85d2df8b0",
   "metadata": {},
   "outputs": [],
   "source": [
    "# TF_CPP_MIN_LOG_LEVEL: Tensorflow에서 출력할 로그의 수준을 지정합니다. \n",
    "# 0 = all messages are logged (default behavior)\n",
    "# 1 = INFO messages are not printed\n",
    "# 2 = INFO and WARNING messages are not printed\n",
    "# 3 = INFO, WARNING, and ERROR messages are not printed\n",
    "\n",
    "# 불필요한 경고 메세지가 너무 많이 나와서 내용 파악에 어려움이 있어\n",
    "# Tensorflow에서 출력하는 경고 메세지를 보이지 않게 조정합니다.\n",
    "# 개발 단계에서는 비활성화 시키지 않는 것을 권장드립니다. \n",
    "os.environ['TF_CPP_MIN_LOG_LEVEL'] = '2'\n",
    "import tensorflow as tf\n",
    "\n",
    "tf.__name__, tf.__version__"
   ]
  },
  {
   "cell_type": "markdown",
   "id": "b9d2c643-cc12-4e00-a900-6174352acdea",
   "metadata": {},
   "source": [
    "## 기타"
   ]
  },
  {
   "cell_type": "markdown",
   "id": "11322450-a411-49b8-9f49-d3290f416fe6",
   "metadata": {},
   "source": [
    "### tqdm \n",
    "\n",
    "프로그레스바 모듈입니다."
   ]
  },
  {
   "cell_type": "code",
   "execution_count": null,
   "id": "a90b42df-b3d0-466a-a1d2-29bca6545a7d",
   "metadata": {},
   "outputs": [],
   "source": [
    "try:\n",
    "    import tqdm\n",
    "except:\n",
    "    !pip install --upgrade tqdm"
   ]
  },
  {
   "cell_type": "markdown",
   "id": "6c68ccd3-d9c1-4421-a788-b345be04b9d3",
   "metadata": {},
   "source": [
    "## 강의 목차\n",
    "\n",
    "### 1일차\n",
    "\n",
    "**오전**\n",
    "\n",
    "1. MovieLens 데이터셋 소개\n",
    "\n",
    "2. 추천 시스템 개론 I - 초간단 추천 로직 만들기\n",
    "\n",
    "**오후**\n",
    "\n",
    "2. 추천 시스템 개론 II\n",
    "\n",
    "3. 머신 러닝 I - 지도학습\n",
    "\n",
    "### 2일차\n",
    "\n",
    "**오전**\n",
    "\n",
    "3. 머신 러닝 II - 비지도학습\n",
    "\n",
    "4. Matrix Factorization 1-1\n",
    "\n",
    "**오후**\n",
    "\n",
    "4. Matrix Factorization 1-2\n",
    "\n",
    "5. Matrix Factorization 2\n",
    "\n",
    "### 3일차\n",
    "\n",
    "**오전**\n",
    "\n",
    "6. Matrix Factorization 3\n",
    "\n",
    "**오후**\n",
    "\n",
    "7. Negative Sampling"
   ]
  },
  {
   "cell_type": "code",
   "execution_count": null,
   "id": "41b48168-ba4e-41cc-9944-4e92ae63fad5",
   "metadata": {},
   "outputs": [],
   "source": []
  }
 ],
 "metadata": {
  "kernelspec": {
   "display_name": "Python 3 (ipykernel)",
   "language": "python",
   "name": "python3"
  },
  "language_info": {
   "codemirror_mode": {
    "name": "ipython",
    "version": 3
   },
   "file_extension": ".py",
   "mimetype": "text/x-python",
   "name": "python",
   "nbconvert_exporter": "python",
   "pygments_lexer": "ipython3",
   "version": "3.12.3"
  }
 },
 "nbformat": 4,
 "nbformat_minor": 5
}
